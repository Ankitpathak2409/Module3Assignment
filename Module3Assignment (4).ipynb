{
  "nbformat": 4,
  "nbformat_minor": 0,
  "metadata": {
    "colab": {
      "provenance": []
    },
    "kernelspec": {
      "name": "python3",
      "display_name": "Python 3"
    },
    "language_info": {
      "name": "python"
    }
  },
  "cells": [
    {
      "cell_type": "markdown",
      "source": [
        "# Ques-1  Write a simple program in HTML  that displays the heading \"HTML defines the content and structure of your website” on the web browser?"
      ],
      "metadata": {
        "id": "SCVC_0rK9n9v"
      }
    },
    {
      "cell_type": "code",
      "source": [
        "from IPython.core.display import display, HTML\n",
        "\n",
        "html_code = '''\n",
        "<html>\n",
        "<head>\n",
        "    <meta charset=\"UTF-8\">\n",
        "    <meta name=\"viewport\" content=\"width=device-width, initial-scale=1.0\">\n",
        "    <title>HTML Heading Example</title>\n",
        "</head>\n",
        "<body>\n",
        "    <h1>HTML defines the content and structure of your website</h1>\n",
        "    <h2>HTML defines the content and structure of your website</h2>\n",
        "    <h3>HTML defines the content and structure of your website</h3>\n",
        "    <h4>HTML defines the content and structure of your website</h4>\n",
        "    <h5>HTML defines the content and structure of your website</h5>\n",
        "    <h6>HTML defines the content and structure of your website</h6>\n",
        "</body>\n",
        "</html>\n",
        "'''\n",
        "\n",
        "print(\"HTML Code:\")\n",
        "print(html_code)\n",
        "\n",
        "print(\"\\nRendered Output:\")\n",
        "display(HTML(html_code))\n",
        "\n"
      ],
      "metadata": {
        "id": "oKULpbgF9yTo",
        "colab": {
          "base_uri": "https://localhost:8080/",
          "height": 605
        },
        "outputId": "063e0cc9-8413-4d30-f3bd-ee08b289b051"
      },
      "execution_count": 1,
      "outputs": [
        {
          "output_type": "stream",
          "name": "stdout",
          "text": [
            "HTML Code:\n",
            "\n",
            "<html>\n",
            "<head>\n",
            "    <meta charset=\"UTF-8\">\n",
            "    <meta name=\"viewport\" content=\"width=device-width, initial-scale=1.0\">\n",
            "    <title>HTML Heading Example</title>\n",
            "</head>\n",
            "<body>\n",
            "    <h1>HTML defines the content and structure of your website</h1>\n",
            "    <h2>HTML defines the content and structure of your website</h2>\n",
            "    <h3>HTML defines the content and structure of your website</h3>\n",
            "    <h4>HTML defines the content and structure of your website</h4>\n",
            "    <h5>HTML defines the content and structure of your website</h5>\n",
            "    <h6>HTML defines the content and structure of your website</h6>\n",
            "</body>\n",
            "</html>\n",
            "\n",
            "\n",
            "Rendered Output:\n"
          ]
        },
        {
          "output_type": "display_data",
          "data": {
            "text/plain": [
              "<IPython.core.display.HTML object>"
            ],
            "text/html": [
              "\n",
              "<html>\n",
              "<head>\n",
              "    <meta charset=\"UTF-8\">\n",
              "    <meta name=\"viewport\" content=\"width=device-width, initial-scale=1.0\">\n",
              "    <title>HTML Heading Example</title>\n",
              "</head>\n",
              "<body>\n",
              "    <h1>HTML defines the content and structure of your website</h1>\n",
              "    <h2>HTML defines the content and structure of your website</h2>\n",
              "    <h3>HTML defines the content and structure of your website</h3>\n",
              "    <h4>HTML defines the content and structure of your website</h4>\n",
              "    <h5>HTML defines the content and structure of your website</h5>\n",
              "    <h6>HTML defines the content and structure of your website</h6>\n",
              "</body>\n",
              "</html>\n"
            ]
          },
          "metadata": {}
        }
      ]
    },
    {
      "cell_type": "markdown",
      "source": [
        "# Ques-2 Explain the purpose of comments in HTML and provide an example of how to use comments in an HTML document?\n",
        "   \n",
        "   * Comments in HTML are used to add notes or explanations within the code that are not displayed in the web browser. They help improve code readability, provide documentation, and make it easier for developers to understand the structure of a webpage.\n",
        "\n",
        "  **Use of HTML Comments:**\n",
        "\n",
        "    * **Code Explanation:** Helps developers understand sections of the code.\n",
        "    * **Debugging Assistance:** Temporarily hide parts of the code for testing.\n",
        "    * **Collaboration:** Useful when working in teams to provide context for certain elements.\n",
        "\n",
        "  **Example of HTML Comment**"
      ],
      "metadata": {
        "id": "YF6BWlFm-RpF"
      }
    },
    {
      "cell_type": "code",
      "source": [
        "from IPython.core.display import display, HTML\n",
        "\n",
        "html_code = '''\n",
        "<html>\n",
        "<head>\n",
        "    <meta charset=\"UTF-8\">\n",
        "    <meta name=\"viewport\" content=\"width=device-width, initial-scale=1.0\">\n",
        "    <title>HTML Comments Example</title>\n",
        "</head>\n",
        "<body>\n",
        "\n",
        "    <!-- This is a heading for the webpage -->\n",
        "    <h1>Welcome to My Website</h1>\n",
        "\n",
        "    <!-- Commenting out a section (it won’t appear on the webpage) -->\n",
        "    <!--\n",
        "    <p>This paragraph is hidden and will not be displayed.</p>\n",
        "    -->\n",
        "\n",
        "</body>\n",
        "</html>\n",
        "'''\n",
        "\n",
        "print(\"HTML Code:\")\n",
        "print(html_code)\n",
        "\n",
        "print(\"\\nRendered Output:\")\n",
        "display(HTML(html_code))\n"
      ],
      "metadata": {
        "id": "ypu7ELD5_X_m",
        "colab": {
          "base_uri": "https://localhost:8080/",
          "height": 474
        },
        "outputId": "b9eca7b6-b05d-4875-8e4f-49e045950fb8"
      },
      "execution_count": 2,
      "outputs": [
        {
          "output_type": "stream",
          "name": "stdout",
          "text": [
            "HTML Code:\n",
            "\n",
            "<html>\n",
            "<head>\n",
            "    <meta charset=\"UTF-8\">\n",
            "    <meta name=\"viewport\" content=\"width=device-width, initial-scale=1.0\">\n",
            "    <title>HTML Comments Example</title>\n",
            "</head>\n",
            "<body>\n",
            "\n",
            "    <!-- This is a heading for the webpage -->\n",
            "    <h1>Welcome to My Website</h1>\n",
            "\n",
            "    <!-- Commenting out a section (it won’t appear on the webpage) -->\n",
            "    <!--\n",
            "    <p>This paragraph is hidden and will not be displayed.</p>\n",
            "    -->\n",
            "\n",
            "</body>\n",
            "</html>\n",
            "\n",
            "\n",
            "Rendered Output:\n"
          ]
        },
        {
          "output_type": "display_data",
          "data": {
            "text/plain": [
              "<IPython.core.display.HTML object>"
            ],
            "text/html": [
              "\n",
              "<html>\n",
              "<head>\n",
              "    <meta charset=\"UTF-8\">\n",
              "    <meta name=\"viewport\" content=\"width=device-width, initial-scale=1.0\">\n",
              "    <title>HTML Comments Example</title>\n",
              "</head>\n",
              "<body>\n",
              "\n",
              "    <!-- This is a heading for the webpage -->\n",
              "    <h1>Welcome to My Website</h1>\n",
              "\n",
              "    <!-- Commenting out a section (it won’t appear on the webpage) -->\n",
              "    <!--\n",
              "    <p>This paragraph is hidden and will not be displayed.</p>\n",
              "    -->\n",
              "\n",
              "</body>\n",
              "</html>\n"
            ]
          },
          "metadata": {}
        }
      ]
    },
    {
      "cell_type": "markdown",
      "source": [
        "# Ques-3  Write an HTML program that includes a heading, a paragraph of text, a horizontal line, and a line break. Arrange these elements to create a simple web page layout?"
      ],
      "metadata": {
        "id": "XNNBR763APtU"
      }
    },
    {
      "cell_type": "code",
      "source": [
        "# Answer-3\n",
        "\n",
        "from IPython.core.display import display, HTML\n",
        "\n",
        "html_code = '''\n",
        "<html>\n",
        "<head>\n",
        "    <meta charset=\"UTF-8\">\n",
        "    <meta name=\"viewport\" content=\"width=device-width, initial-scale=1.0\">\n",
        "    <title>Simple Web Page Layout</title>\n",
        "</head>\n",
        "<body>\n",
        "\n",
        "    <!-- Heading -->\n",
        "    <h1>Welcome to My Simple Web Page</h1>\n",
        "\n",
        "    <!-- Horizontal Line -->\n",
        "    <hr>\n",
        "\n",
        "    <!-- Paragraph -->\n",
        "    <p>\n",
        "        This is a sample paragraph that gives a brief introduction about this webpage.\n",
        "        HTML helps define the structure and content of a website.\n",
        "        <br><br> <!-- Line Break -->\n",
        "        You can use different HTML tags to format text, create layouts, and add multimedia elements.\n",
        "    </p>\n",
        "\n",
        "    <!-- Another Horizontal Line -->\n",
        "    <hr>\n",
        "\n",
        "</body>\n",
        "</html>\n",
        "'''\n",
        "\n",
        "print(\"HTML Code:\")\n",
        "print(html_code)\n",
        "\n",
        "print(\"\\nRendered Code:\")\n",
        "display(HTML(html_code))"
      ],
      "metadata": {
        "id": "RY9grA6qAY12",
        "colab": {
          "base_uri": "https://localhost:8080/",
          "height": 709
        },
        "outputId": "0b6bf107-0ddd-4436-974f-9235291ca317"
      },
      "execution_count": 3,
      "outputs": [
        {
          "output_type": "stream",
          "name": "stdout",
          "text": [
            "HTML Code:\n",
            "\n",
            "<html>\n",
            "<head>\n",
            "    <meta charset=\"UTF-8\">\n",
            "    <meta name=\"viewport\" content=\"width=device-width, initial-scale=1.0\">\n",
            "    <title>Simple Web Page Layout</title>\n",
            "</head>\n",
            "<body>\n",
            "\n",
            "    <!-- Heading -->\n",
            "    <h1>Welcome to My Simple Web Page</h1>\n",
            "\n",
            "    <!-- Horizontal Line -->\n",
            "    <hr>\n",
            "\n",
            "    <!-- Paragraph -->\n",
            "    <p>\n",
            "        This is a sample paragraph that gives a brief introduction about this webpage.\n",
            "        HTML helps define the structure and content of a website.\n",
            "        <br><br> <!-- Line Break -->\n",
            "        You can use different HTML tags to format text, create layouts, and add multimedia elements.\n",
            "    </p>\n",
            "\n",
            "    <!-- Another Horizontal Line -->\n",
            "    <hr>\n",
            "\n",
            "</body>\n",
            "</html>\n",
            "\n",
            "\n",
            "Rendered Code:\n"
          ]
        },
        {
          "output_type": "display_data",
          "data": {
            "text/plain": [
              "<IPython.core.display.HTML object>"
            ],
            "text/html": [
              "\n",
              "<html>\n",
              "<head>\n",
              "    <meta charset=\"UTF-8\">\n",
              "    <meta name=\"viewport\" content=\"width=device-width, initial-scale=1.0\">\n",
              "    <title>Simple Web Page Layout</title>\n",
              "</head>\n",
              "<body>\n",
              "\n",
              "    <!-- Heading -->\n",
              "    <h1>Welcome to My Simple Web Page</h1>\n",
              "\n",
              "    <!-- Horizontal Line -->\n",
              "    <hr>\n",
              "\n",
              "    <!-- Paragraph -->\n",
              "    <p>\n",
              "        This is a sample paragraph that gives a brief introduction about this webpage.\n",
              "        HTML helps define the structure and content of a website.\n",
              "        <br><br> <!-- Line Break -->\n",
              "        You can use different HTML tags to format text, create layouts, and add multimedia elements.\n",
              "    </p>\n",
              "\n",
              "    <!-- Another Horizontal Line -->\n",
              "    <hr>\n",
              "\n",
              "</body>\n",
              "</html>\n"
            ]
          },
          "metadata": {}
        }
      ]
    },
    {
      "cell_type": "markdown",
      "source": [
        "# Ques-4 Write a short note on Tag and element with an example?\n",
        "\n",
        "* **HTML Tag:-** A tag in HTML is a keyword enclosed within angle brackets (< >) that defines how content should be displayed on a webpage. Tags usually come in pairs: an opening tag and a closing tag.\n",
        "\n",
        " There are two types of tag:\n",
        "  \n",
        "   * **Opening Tag:** Marks the start of an element (e.g., <p>).\n",
        "   * **Closing Tag:** Marks the end of an element (e.g., </p>).\n",
        "\n",
        "  **HTML Element:-** An HTML element consists of an opening tag, content, and a closing tag (except for self-closing elements). It defines the structure and content of a webpage."
      ],
      "metadata": {
        "id": "o0mBdxSaA5c0"
      }
    },
    {
      "cell_type": "code",
      "source": [
        "from IPython.core.display import display, HTML\n",
        "\n",
        "html_code = '''\n",
        "<html>\n",
        "<head>\n",
        "<title>Example of Tag and Element</title>\n",
        "</head>\n",
        "<body>\n",
        "<!-- Example of tag -->\n",
        "<p>This is a paragraph </p>\n",
        "\n",
        "<!-- <p> is opening tag and </p> is closing tag -->\n",
        "\n",
        "<!-- Example of an element -->\n",
        "<h1> Welcome to my website </h1>\n",
        "\n",
        "<!-- <h1> is opening tag, Welcome to my website is content and </h1> is closing tag -->\n",
        "'''\n",
        "\n",
        "print(\"HTML Code:\")\n",
        "print(html_code)\n",
        "\n",
        "print(\"\\nRendered Output:\")\n",
        "display(HTML(html_code))\n"
      ],
      "metadata": {
        "id": "fOFXH1ukCuLL",
        "colab": {
          "base_uri": "https://localhost:8080/",
          "height": 427
        },
        "outputId": "2ac50243-ca3c-4cbb-fa2d-89e21e1961a6"
      },
      "execution_count": 4,
      "outputs": [
        {
          "output_type": "stream",
          "name": "stdout",
          "text": [
            "HTML Code:\n",
            "\n",
            "<html>\n",
            "<head>\n",
            "<title>Example of Tag and Element</title>\n",
            "</head>\n",
            "<body>\n",
            "<!-- Example of tag -->\n",
            "<p>This is a paragraph </p>\n",
            "\n",
            "<!-- <p> is opening tag and </p> is closing tag -->\n",
            "\n",
            "<!-- Example of an element -->\n",
            "<h1> Welcome to my website </h1>\n",
            "\n",
            "<!-- <h1> is opening tag, Welcome to my website is content and </h1> is closing tag -->\n",
            "\n",
            "\n",
            "Rendered Output:\n"
          ]
        },
        {
          "output_type": "display_data",
          "data": {
            "text/plain": [
              "<IPython.core.display.HTML object>"
            ],
            "text/html": [
              "\n",
              "<html>\n",
              "<head>\n",
              "<title>Example of Tag and Element</title>\n",
              "</head>\n",
              "<body>\n",
              "<!-- Example of tag -->\n",
              "<p>This is a paragraph </p>\n",
              "\n",
              "<!-- <p> is opening tag and </p> is closing tag -->\n",
              "\n",
              "<!-- Example of an element -->\n",
              "<h1> Welcome to my website </h1>\n",
              "\n",
              "<!-- <h1> is opening tag, Welcome to my website is content and </h1> is closing tag -->\n"
            ]
          },
          "metadata": {}
        }
      ]
    },
    {
      "cell_type": "markdown",
      "source": [
        "# Ques-5 What is the DOCTYPE Declaration in HTML?\n",
        "\n",
        "* The DOCTYPE declaration in HTML is used to specify the document type and HTML version being used. It helps web browsers understand how to render the webpage correctly.\n",
        "\n",
        "  **Purpose of DOCTYPE Declaration:-**\n",
        "\n",
        "  * **Ensures Proper Rendering:** Without DOCTYPE, browsers may switch to quirks mode, which can cause inconsistent rendering.\n",
        "  * **Specifies HTML Version:** Modern websites use <!DOCTYPE html> for HTML5.\n",
        "  * **Improves Browser Compatibility:**  Helps maintain a standardized layout across different browsers.\n",
        "\n",
        "\n",
        "\n",
        "\n",
        "\n",
        "\n",
        "\n",
        "\n",
        "\n",
        "\n",
        "\n",
        "\n",
        "\n"
      ],
      "metadata": {
        "id": "0LSmcU3oDjx_"
      }
    }
  ]
}